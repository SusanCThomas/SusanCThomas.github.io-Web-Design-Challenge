{
 "cells": [
  {
   "cell_type": "markdown",
   "id": "accessible-transaction",
   "metadata": {},
   "source": [
    "# Data Conversion\n",
    "*****************************************************************************************************************"
   ]
  },
  {
   "cell_type": "markdown",
   "id": "expired-object",
   "metadata": {},
   "source": [
    "## Generate a HTML file from the CSV data file"
   ]
  },
  {
   "cell_type": "markdown",
   "id": "inside-column",
   "metadata": {},
   "source": [
    "### Import Dependencies"
   ]
  },
  {
   "cell_type": "code",
   "execution_count": 1,
   "id": "graphic-enlargement",
   "metadata": {},
   "outputs": [],
   "source": [
    "import pandas as pd\n",
    "import os"
   ]
  },
  {
   "cell_type": "markdown",
   "id": "killing-macedonia",
   "metadata": {},
   "source": [
    "### Retrieve Data from CSV file"
   ]
  },
  {
   "cell_type": "code",
   "execution_count": 2,
   "id": "classified-notice",
   "metadata": {},
   "outputs": [],
   "source": [
    "# Reading in dataset from csv to store into a pandas df\n",
    "csv_path = pd.read_csv(\"../Resources/cities.csv\")"
   ]
  },
  {
   "cell_type": "code",
   "execution_count": null,
   "id": "amazing-humor",
   "metadata": {},
   "outputs": [],
   "source": []
  }
 ],
 "metadata": {
  "kernelspec": {
   "display_name": "PythonData",
   "language": "python",
   "name": "pythondata"
  },
  "language_info": {
   "codemirror_mode": {
    "name": "ipython",
    "version": 3
   },
   "file_extension": ".py",
   "mimetype": "text/x-python",
   "name": "python",
   "nbconvert_exporter": "python",
   "pygments_lexer": "ipython3",
   "version": "3.6.12"
  }
 },
 "nbformat": 4,
 "nbformat_minor": 5
}
